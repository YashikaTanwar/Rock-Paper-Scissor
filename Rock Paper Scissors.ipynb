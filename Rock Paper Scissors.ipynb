{
 "cells": [
  {
   "cell_type": "code",
   "execution_count": 3,
   "metadata": {},
   "outputs": [
    {
     "name": "stdout",
     "output_type": "stream",
     "text": [
      "'r' for rock,'p' for paper,'s' for scissorsp\n",
      "You Lost!\n"
     ]
    }
   ],
   "source": [
    "import random\n",
    "def play():\n",
    "    user=input(\"'r' for rock,'p' for paper,'s' for scissors\")\n",
    "    computer=random.choice(['r','p','s']) # random.choice for string value\n",
    "    \n",
    "    if user ==computer:\n",
    "        return \"It's a Tie\"\n",
    "    \n",
    "    if is_win(user,computer):\n",
    "        return 'You Won!'\n",
    "    \n",
    "    return \"You Lost!\"\n",
    "\n",
    "def is_win(user,computer):\n",
    "    # return true if player wins\n",
    "    if(user=='r' and computer =='s') or(user=='p' and computer=='r')or (user=='s' and computer=='p'):\n",
    "        return True\n",
    "\n",
    "print(play())    "
   ]
  },
  {
   "cell_type": "code",
   "execution_count": 6,
   "metadata": {},
   "outputs": [
    {
     "name": "stdout",
     "output_type": "stream",
     "text": [
      "'s' for snake,'w' for water,'g' for gun: s\n",
      "You Loose\n"
     ]
    }
   ],
   "source": [
    "import random\n",
    "def play():\n",
    "    user_input=input(\"'s' for snake,'w' for water,'g' for gun: \")\n",
    "    computer_guess=random.choice([\"s\",\"w\",\"g\"])\n",
    "    \n",
    "    if user_input==computer_guess:\n",
    "        return \"It's a Tie\"\n",
    "    \n",
    "    if win_check(user_input,computer_guess):\n",
    "        return \"Congratulations, You Win!\"\n",
    "    \n",
    "    return \"You Loose\"\n",
    "\n",
    "def win_check(user_input,computer_guess):\n",
    "    \n",
    "    if (user_input=='s' and computer_guess=='w') or (user_input=='w' and computer_guess=='g') or (user_input=='g' and computer_guess=='s'):\n",
    "        return True\n",
    "\n",
    "print(play())"
   ]
  },
  {
   "cell_type": "code",
   "execution_count": null,
   "metadata": {},
   "outputs": [],
   "source": []
  }
 ],
 "metadata": {
  "kernelspec": {
   "display_name": "Python 3",
   "language": "python",
   "name": "python3"
  },
  "language_info": {
   "codemirror_mode": {
    "name": "ipython",
    "version": 3
   },
   "file_extension": ".py",
   "mimetype": "text/x-python",
   "name": "python",
   "nbconvert_exporter": "python",
   "pygments_lexer": "ipython3",
   "version": "3.8.5"
  }
 },
 "nbformat": 4,
 "nbformat_minor": 4
}
